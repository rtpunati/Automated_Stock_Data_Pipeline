{
 "cells": [
  {
   "cell_type": "code",
   "execution_count": 117,
   "metadata": {
    "application/vnd.databricks.v1+cell": {
     "cellMetadata": {
      "byteLimit": 2048000,
      "rowLimit": 10000
     },
     "inputWidgets": {},
     "nuid": "dfe3530c-1382-486c-b3ee-5102ee7d133d",
     "showTitle": false,
     "tableResultSettingsMap": {},
     "title": ""
    }
   },
   "outputs": [],
   "source": [
    "import os\n",
    "import requests\n",
    "import pandas as pd\n",
    "import json"
   ]
  },
  {
   "cell_type": "code",
   "execution_count": 118,
   "metadata": {
    "application/vnd.databricks.v1+cell": {
     "cellMetadata": {
      "byteLimit": 2048000,
      "rowLimit": 10000
     },
     "inputWidgets": {},
     "nuid": "68a818e2-b14c-475e-99fc-aa14907a59b7",
     "showTitle": false,
     "tableResultSettingsMap": {},
     "title": ""
    },
    "scrolled": true
   },
   "outputs": [
    {
     "data": {
      "text/html": [
       "<div>\n",
       "<style scoped>\n",
       "    .dataframe tbody tr th:only-of-type {\n",
       "        vertical-align: middle;\n",
       "    }\n",
       "\n",
       "    .dataframe tbody tr th {\n",
       "        vertical-align: top;\n",
       "    }\n",
       "\n",
       "    .dataframe thead th {\n",
       "        text-align: right;\n",
       "    }\n",
       "</style>\n",
       "<table border=\"1\" class=\"dataframe\">\n",
       "  <thead>\n",
       "    <tr style=\"text-align: right;\">\n",
       "      <th></th>\n",
       "      <th>Open</th>\n",
       "      <th>High</th>\n",
       "      <th>Low</th>\n",
       "      <th>Close</th>\n",
       "      <th>Volume</th>\n",
       "      <th>Daily Range</th>\n",
       "    </tr>\n",
       "    <tr>\n",
       "      <th>Date</th>\n",
       "      <th></th>\n",
       "      <th></th>\n",
       "      <th></th>\n",
       "      <th></th>\n",
       "      <th></th>\n",
       "      <th></th>\n",
       "    </tr>\n",
       "  </thead>\n",
       "  <tbody>\n",
       "    <tr>\n",
       "      <th>2024-07-02</th>\n",
       "      <td>174.84</td>\n",
       "      <td>177.4850</td>\n",
       "      <td>174.3200</td>\n",
       "      <td>177.30</td>\n",
       "      <td>2883275</td>\n",
       "      <td>3.1650</td>\n",
       "    </tr>\n",
       "    <tr>\n",
       "      <th>2024-07-03</th>\n",
       "      <td>177.88</td>\n",
       "      <td>177.9800</td>\n",
       "      <td>175.1700</td>\n",
       "      <td>175.73</td>\n",
       "      <td>1649049</td>\n",
       "      <td>2.8100</td>\n",
       "    </tr>\n",
       "    <tr>\n",
       "      <th>2024-07-05</th>\n",
       "      <td>175.74</td>\n",
       "      <td>176.0900</td>\n",
       "      <td>173.9500</td>\n",
       "      <td>176.02</td>\n",
       "      <td>2085970</td>\n",
       "      <td>2.1400</td>\n",
       "    </tr>\n",
       "    <tr>\n",
       "      <th>2024-07-08</th>\n",
       "      <td>176.41</td>\n",
       "      <td>178.5900</td>\n",
       "      <td>176.0100</td>\n",
       "      <td>177.64</td>\n",
       "      <td>2503038</td>\n",
       "      <td>2.5800</td>\n",
       "    </tr>\n",
       "    <tr>\n",
       "      <th>2024-07-09</th>\n",
       "      <td>177.60</td>\n",
       "      <td>177.7000</td>\n",
       "      <td>175.5800</td>\n",
       "      <td>176.48</td>\n",
       "      <td>2513305</td>\n",
       "      <td>2.1200</td>\n",
       "    </tr>\n",
       "    <tr>\n",
       "      <th>...</th>\n",
       "      <td>...</td>\n",
       "      <td>...</td>\n",
       "      <td>...</td>\n",
       "      <td>...</td>\n",
       "      <td>...</td>\n",
       "      <td>...</td>\n",
       "    </tr>\n",
       "    <tr>\n",
       "      <th>2024-11-14</th>\n",
       "      <td>210.00</td>\n",
       "      <td>210.4999</td>\n",
       "      <td>206.3500</td>\n",
       "      <td>208.99</td>\n",
       "      <td>6372853</td>\n",
       "      <td>4.1499</td>\n",
       "    </tr>\n",
       "    <tr>\n",
       "      <th>2024-11-15</th>\n",
       "      <td>207.46</td>\n",
       "      <td>208.4900</td>\n",
       "      <td>204.0700</td>\n",
       "      <td>204.99</td>\n",
       "      <td>3986460</td>\n",
       "      <td>4.4200</td>\n",
       "    </tr>\n",
       "    <tr>\n",
       "      <th>2024-11-18</th>\n",
       "      <td>207.00</td>\n",
       "      <td>208.4150</td>\n",
       "      <td>205.3701</td>\n",
       "      <td>208.09</td>\n",
       "      <td>3406045</td>\n",
       "      <td>3.0449</td>\n",
       "    </tr>\n",
       "    <tr>\n",
       "      <th>2024-11-19</th>\n",
       "      <td>206.50</td>\n",
       "      <td>210.3300</td>\n",
       "      <td>206.1900</td>\n",
       "      <td>210.25</td>\n",
       "      <td>2860746</td>\n",
       "      <td>4.1400</td>\n",
       "    </tr>\n",
       "    <tr>\n",
       "      <th>2024-11-20</th>\n",
       "      <td>210.88</td>\n",
       "      <td>214.9500</td>\n",
       "      <td>209.7725</td>\n",
       "      <td>214.61</td>\n",
       "      <td>4534341</td>\n",
       "      <td>5.1775</td>\n",
       "    </tr>\n",
       "  </tbody>\n",
       "</table>\n",
       "<p>100 rows × 6 columns</p>\n",
       "</div>"
      ],
      "text/plain": [
       "              Open      High       Low   Close   Volume  Daily Range\n",
       "Date                                                                \n",
       "2024-07-02  174.84  177.4850  174.3200  177.30  2883275       3.1650\n",
       "2024-07-03  177.88  177.9800  175.1700  175.73  1649049       2.8100\n",
       "2024-07-05  175.74  176.0900  173.9500  176.02  2085970       2.1400\n",
       "2024-07-08  176.41  178.5900  176.0100  177.64  2503038       2.5800\n",
       "2024-07-09  177.60  177.7000  175.5800  176.48  2513305       2.1200\n",
       "...            ...       ...       ...     ...      ...          ...\n",
       "2024-11-14  210.00  210.4999  206.3500  208.99  6372853       4.1499\n",
       "2024-11-15  207.46  208.4900  204.0700  204.99  3986460       4.4200\n",
       "2024-11-18  207.00  208.4150  205.3701  208.09  3406045       3.0449\n",
       "2024-11-19  206.50  210.3300  206.1900  210.25  2860746       4.1400\n",
       "2024-11-20  210.88  214.9500  209.7725  214.61  4534341       5.1775\n",
       "\n",
       "[100 rows x 6 columns]"
      ]
     },
     "metadata": {},
     "output_type": "display_data"
    },
    {
     "name": "stdout",
     "output_type": "stream",
     "text": [
      "Index(['Open', 'High', 'Low', 'Close', 'Volume', 'Daily Range'], dtype='object')\n"
     ]
    }
   ],
   "source": [
    "import pandas as pd\n",
    "import matplotlib.pyplot as plt\n",
    "from statsmodels.tsa.arima.model import ARIMA\n",
    "\n",
    "data = pd.read_csv('C://Users//ratan//automated_data_pipeline//scripts//output//stock_data.csv')\n",
    "data.rename(columns={'Unnamed: 0': 'Date'}, inplace=True)\n",
    "data['Date'] = pd.to_datetime(data['Date'])\n",
    "data.set_index('Date', inplace=True)\n",
    "\n",
    "display(data)\n",
    "\n",
    "print(data.columns)\n",
    "\n"
   ]
  },
  {
   "cell_type": "code",
   "execution_count": 121,
   "metadata": {},
   "outputs": [
    {
     "name": "stdout",
     "output_type": "stream",
     "text": [
      "DatetimeIndex(['2024-07-02', '2024-07-03', '2024-07-04', '2024-07-05',\n",
      "               '2024-07-06', '2024-07-07', '2024-07-08', '2024-07-09',\n",
      "               '2024-07-10', '2024-07-11',\n",
      "               ...\n",
      "               '2024-11-12', '2024-11-13', '2024-11-14', '2024-11-15',\n",
      "               '2024-11-16', '2024-11-17', '2024-11-18', '2024-11-19',\n",
      "               '2024-11-20', '2024-11-21'],\n",
      "              dtype='datetime64[ns]', name='Date', length=143, freq='D')\n"
     ]
    }
   ],
   "source": [
    "print(data.index)\n"
   ]
  },
  {
   "cell_type": "code",
   "execution_count": 122,
   "metadata": {},
   "outputs": [],
   "source": [
    "# Forward-fill to handle missing values\n",
    "data = data.asfreq('D').fillna(method='ffill')\n",
    "\n",
    "# Ensure model sees the true value on 2024-11-21\n",
    "data.loc['2024-11-21', 'Close'] = 222.80\n",
    "\n",
    "# Use the most recent 3 months of data\n",
    "train = data.loc['2024-08-01':]\n"
   ]
  },
  {
   "cell_type": "code",
   "execution_count": 123,
   "metadata": {},
   "outputs": [],
   "source": [
    "model = ARIMA(train['Close'], order=(5, 1, 0))  # Test orders (5, 1, 0), (1, 1, 1), etc.\n",
    "model_fit = model.fit()\n",
    "\n",
    "# Forecast the next 5 days\n",
    "forecast_steps = len(test)\n",
    "forecast = model_fit.forecast(steps=forecast_steps)\n",
    "\n",
    "# Align forecast with observed dates\n",
    "forecast.index = pd.date_range(\n",
    "    start=data.index[-1] + pd.Timedelta(days=1),\n",
    "    periods=forecast_steps,\n",
    "    freq='D'\n",
    ")"
   ]
  },
  {
   "cell_type": "code",
   "execution_count": 124,
   "metadata": {},
   "outputs": [
    {
     "data": {
      "image/png": "[encoded data removed]",
      "text/plain": [
       "<Figure size 1200x600 with 1 Axes>"
      ]
     },
     "metadata": {},
     "output_type": "display_data"
    },
    {
     "name": "stdout",
     "output_type": "stream",
     "text": [
      "Forecasted Values:\n",
      "2024-11-22    224.425517\n",
      "2024-11-23    225.960900\n",
      "2024-11-24    226.557925\n",
      "2024-11-25    227.619474\n",
      "2024-11-26    229.337495\n",
      "2024-11-27    229.998351\n",
      "2024-11-28    230.530818\n",
      "2024-11-29    230.747432\n",
      "2024-11-30    231.023552\n",
      "2024-12-01    231.397179\n",
      "2024-12-02    231.601666\n",
      "2024-12-03    231.762990\n",
      "2024-12-04    231.839508\n",
      "2024-12-05    231.915319\n",
      "2024-12-06    232.000983\n",
      "2024-12-07    232.058512\n",
      "2024-12-08    232.104250\n",
      "2024-12-09    232.129268\n",
      "2024-12-10    232.150693\n",
      "2024-12-11    232.171510\n",
      "Freq: D, Name: predicted_mean, dtype: float64\n"
     ]
    }
   ],
   "source": [
    "# Plot the actual data and forecast\n",
    "plt.figure(figsize=(12, 6))\n",
    "plt.plot(data['Close'], label='Actual Data', color='blue')\n",
    "plt.plot(forecast.index, forecast, label='Forecast', color='orange', linestyle='--')\n",
    "plt.axvline(x=train.index[-1], color='gray', linestyle='--', label='Forecast Start')\n",
    "\n",
    "# Add labels and legend\n",
    "plt.title(\"Refined Time Series Forecast\")\n",
    "plt.xlabel(\"Date\")\n",
    "plt.ylabel(\"Close Price\")\n",
    "plt.legend()\n",
    "plt.grid()\n",
    "\n",
    "# Show plot\n",
    "plt.show()\n",
    "\n",
    "print(\"Forecasted Values:\")\n",
    "print(forecast)\n"
   ]
  },
  {
   "cell_type": "code",
   "execution_count": null,
   "metadata": {},
   "outputs": [],
   "source": []
  }
 ],
 "metadata": {
  "application/vnd.databricks.v1+notebook": {
   "dashboards": [],
   "environmentMetadata": null,
   "language": "python",
   "notebookMetadata": {
    "mostRecentlyExecutedCommandWithImplicitDF": {
     "commandId": 2160932306247707,
     "dataframes": [
      "_sqldf"
     ]
    },
    "pythonIndentUnit": 4
   },
   "notebookName": "Untitled Notebook 2024-11-21 09:52:05",
   "widgets": {}
  },
  "kernelspec": {
   "display_name": "Python 3 (ipykernel)",
   "language": "python",
   "name": "python3"
  },
  "language_info": {
   "codemirror_mode": {
    "name": "ipython",
    "version": 3
   },
   "file_extension": ".py",
   "mimetype": "text/x-python",
   "name": "python",
   "nbconvert_exporter": "python",
   "pygments_lexer": "ipython3",
   "version": "3.11.5"
  }
 },
 "nbformat": 4,
 "nbformat_minor": 1
}
